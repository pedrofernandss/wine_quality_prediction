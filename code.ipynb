{
 "cells": [
  {
   "cell_type": "code",
   "execution_count": null,
   "metadata": {},
   "outputs": [],
   "source": [
    "import pandas as pd\n",
    "import numpy as np\n",
    "import seaborn as sns\n",
    "from sklearn.model_selection import train_test_split\n",
    "from sklearn.preprocessing import StandardScaler"
   ]
  },
  {
   "cell_type": "markdown",
   "metadata": {},
   "source": [
    "Importando o dataset e realizando uma visualização geral/superficial inicial"
   ]
  },
  {
   "cell_type": "code",
   "execution_count": null,
   "metadata": {},
   "outputs": [],
   "source": [
    "winequality_dataset = pd.read_csv(\"winequality.csv\")\n",
    "winequality_dataset.info()"
   ]
  },
  {
   "cell_type": "markdown",
   "metadata": {},
   "source": [
    "Realizando uma análise um pouco mais detalhada a cerca de como os dados e como eles estão distribuidos"
   ]
  },
  {
   "cell_type": "code",
   "execution_count": null,
   "metadata": {},
   "outputs": [],
   "source": [
    "winequality_dataset.describe()"
   ]
  },
  {
   "cell_type": "code",
   "execution_count": null,
   "metadata": {},
   "outputs": [],
   "source": [
    "quantidade = {}\n",
    "for i in winequality_dataset['quality']:\n",
    "    if i not in quantidade:\n",
    "        quantidade[i] = 1\n",
    "    else:\n",
    "        quantidade[i] +=1\n",
    "\n",
    "for i in sorted(quantidade, key = quantidade.get):\n",
    "    print(i, quantidade[i])"
   ]
  },
  {
   "cell_type": "code",
   "execution_count": null,
   "metadata": {},
   "outputs": [],
   "source": [
    "#Bntender a correlação entre os dados\n",
    "correlação = winequality_dataset.corr()\n",
    "sns.heatmap(correlação, annot = True, fmt=\".1f\", cmap='coolwarm', linewidths=.6)"
   ]
  },
  {
   "cell_type": "markdown",
   "metadata": {},
   "source": [
    "Limpeza do dataset"
   ]
  },
  {
   "cell_type": "code",
   "execution_count": null,
   "metadata": {},
   "outputs": [],
   "source": [
    "#Remove a coluna chamada \"Unnamed: 0\".\n",
    "winequality_dataset.drop('Unnamed: 0', axis=1, inplace=True)\n",
    "#Substituindo os espaços entre as palavras do cabeçalho pelo underline.\n",
    "winequality_dataset.columns = winequality_dataset.columns.str.replace(\" \", \"_\")"
   ]
  },
  {
   "cell_type": "code",
   "execution_count": null,
   "metadata": {},
   "outputs": [],
   "source": [
    "#Plotagem de um gráfico simples para analisar melhor a coluna residual_sugar.\n",
    "winequality_dataset.residual_sugar.plot(kind='box', vert=False, figsize=(10,3))\n",
    "#Remove os casos que possuem valores maiores que 25 (só há três valores maiores)\n",
    "winequality_dataset.drop(winequality_dataset[winequality_dataset.residual_sugar > 25].index, axis=0, inplace=True)"
   ]
  },
  {
   "cell_type": "code",
   "execution_count": null,
   "metadata": {},
   "outputs": [],
   "source": [
    "#Plotagem de um gráfico simples para analisar melhor a coluna chlorides.\n",
    "winequality_dataset.chlorides.plot(kind='box', vert=False, figsize=(10,3))\n",
    "#Remove os casos que possuem valores maiores que 25 (só há três valores maiores)\n",
    "winequality_dataset.drop(winequality_dataset[winequality_dataset.chlorides > 0.3].index, axis=0, inplace=True)"
   ]
  },
  {
   "cell_type": "code",
   "execution_count": null,
   "metadata": {},
   "outputs": [],
   "source": [
    "#Plotagem de um gráfico simples para analisar melhor a coluna free sulfur dioxide.\n",
    "winequality_dataset.free_sulfur_dioxide.plot(kind='box', vert=False, figsize=(10,3))\n",
    "#Remove os casos que possuem valores maiores que 150 (há apenas um)\n",
    "winequality_dataset.drop(winequality_dataset[winequality_dataset.free_sulfur_dioxide > 120].index, axis=0, inplace=True)"
   ]
  },
  {
   "cell_type": "code",
   "execution_count": null,
   "metadata": {},
   "outputs": [],
   "source": [
    "#Plotagem de um gráfico simples para analisar melhor a coluna total sulfur dioxide.\n",
    "winequality_dataset.total_sulfur_dioxide.plot(kind='box', vert=False, figsize=(10,3))\n",
    "#Remove os casos que possuem valores maiores que 250 (há apenas um)\n",
    "winequality_dataset.drop(winequality_dataset[winequality_dataset.total_sulfur_dioxide > 275].index, axis=0, inplace=True)"
   ]
  },
  {
   "cell_type": "markdown",
   "metadata": {},
   "source": [
    "Realizando uma classificação binária com o algoritmo de KNN (tinto ou não)"
   ]
  },
  {
   "cell_type": "code",
   "execution_count": null,
   "metadata": {},
   "outputs": [],
   "source": [
    "#Separação do dataset\n",
    "x = winequality_dataset.iloc[:, 0:11]\n",
    "qualidade = winequality_dataset.iloc[:, 11]\n",
    "y = winequality_dataset.iloc[:, 12]\n",
    "\n",
    "x_treinamento, x_teste, y_treinamento, y_teste, qual_treinamento, qual_teste = train_test_split(x, y, qualidade, random_state=0, test_size=0.2)"
   ]
  },
  {
   "cell_type": "code",
   "execution_count": null,
   "metadata": {},
   "outputs": [],
   "source": [
    "#Normalizando o dataset\n",
    "normaliza = StandardScaler()\n",
    "\n",
    "x_treinamento = normaliza.fit_transform(x_treinamento)\n",
    "x_teste = normaliza.transform(x_teste)"
   ]
  },
  {
   "cell_type": "code",
   "execution_count": null,
   "metadata": {},
   "outputs": [],
   "source": [
    "#Verificando o valor de K ideal\n",
    "import math\n",
    "math.sqrt(len(x_treinamento))"
   ]
  },
  {
   "cell_type": "code",
   "execution_count": null,
   "metadata": {},
   "outputs": [],
   "source": [
    "\n",
    "from collections import Counter\n",
    "\n",
    "#Euclidean Distance\n",
    "def calcula_distancia(ponto1, ponto2):\n",
    "    distancia = np.sqrt(np.sum((ponto1-ponto2)**2))\n",
    "    return distancia\n",
    " \n",
    "#Função para calcular o KNN\n",
    "def predict(x_train, y_train , x_test, y_test, k):\n",
    "    rotulos_y_test = []\n",
    "    #Loop atraves dos pontos que precisam ser classificados\n",
    "    for ponto_teste in x_test: \n",
    "        #Lista para armazenar as distancias\n",
    "        point_dist = []\n",
    "        #Loop atravesando cada dado do treinado\n",
    "        for ponto_treino in range(len(x_train)): \n",
    "            #Calcula distancia\n",
    "            distances = calcula_distancia(np.array(x_train[ponto_treino,:]), ponto_teste) \n",
    "            #Armazena as distancias na lista\n",
    "            point_dist.append(distances) \n",
    "\n",
    "        dataframe_distancias = pd.DataFrame(data=point_dist, columns=['dist'], index=y_train.index)\n",
    "\n",
    "        #Ordena as distancias e considera apenas as K pontos mais próximos \n",
    "        dataframe_ordenado = dataframe_distancias.sort_values(by=['dist'], axis=0)[:k]\n",
    "         \n",
    "        #Rastreia qual o rótulo dos K objetos mais próximos\n",
    "        counter = Counter(y_train[dataframe_ordenado.index])\n",
    "         \n",
    "        #Pega o rótulo mais comum de todos os K vizinhos mais próximos\n",
    "        prediction = counter.most_common()[0][0]\n",
    "        rotulos_y_test.append(prediction)\n",
    "        \n",
    "    return rotulos_y_test"
   ]
  },
  {
   "cell_type": "code",
   "execution_count": null,
   "metadata": {},
   "outputs": [],
   "source": [
    "#Realiza a predição\n",
    "y_pred = predict(x_treinamento, y_treinamento, x_teste, y_teste, 71)\n",
    "\n",
    "#Realiza o teste de acurácia\n",
    "from sklearn.metrics import accuracy_score, confusion_matrix, classification_report\n",
    "print(accuracy_score(y_teste, y_pred))"
   ]
  },
  {
   "cell_type": "code",
   "execution_count": null,
   "metadata": {},
   "outputs": [],
   "source": [
    "#Criando uma matriz de confusão simples\n",
    "confusion_matrix(y_teste, y_pred)"
   ]
  },
  {
   "cell_type": "code",
   "execution_count": null,
   "metadata": {},
   "outputs": [],
   "source": [
    "#Comparar o resultado obtido com o resultado gerado pelo algoritmo de KNN fornecido pelo sklearn\n",
    "from sklearn.neighbors import KNeighborsClassifier\n",
    "\n",
    "knn_sklearn = KNeighborsClassifier(n_neighbors=71)\n",
    "knn_sklearn.fit(x_treinamento, y_treinamento)\n",
    "y_pred = knn_sklearn.predict(x_teste)\n",
    "\n",
    "print(accuracy_score(y_teste, y_pred))\n",
    "print(classification_report(y_teste, y_pred))"
   ]
  },
  {
   "cell_type": "markdown",
   "metadata": {},
   "source": [
    "Classificação multiclasse com o algoritmo de Random Forest (qualidade do vinho)"
   ]
  },
  {
   "cell_type": "code",
   "execution_count": null,
   "metadata": {},
   "outputs": [],
   "source": [
    "from sklearn.ensemble import RandomForestClassifier\n",
    "from sklearn.model_selection import RandomizedSearchCV, cross_val_score\n",
    "from sklearn.metrics import accuracy_score, confusion_matrix, classification_report"
   ]
  },
  {
   "cell_type": "code",
   "execution_count": null,
   "metadata": {},
   "outputs": [],
   "source": [
    "#Separa o dataset em treinamento e teste\n",
    "x = winequality_dataset.iloc[:, 0:11]\n",
    "y = winequality_dataset.iloc[:, 11]\n",
    "\n",
    "x_treinamento, x_teste, y_treinamento, y_teste = train_test_split(x, y, random_state=0, test_size=0.2)"
   ]
  },
  {
   "cell_type": "code",
   "execution_count": null,
   "metadata": {},
   "outputs": [],
   "source": [
    "#Normalizando os dados\n",
    "x_treinamento = normaliza.fit_transform(x_treinamento)\n",
    "x_teste = normaliza.transform(x_teste)"
   ]
  },
  {
   "cell_type": "code",
   "execution_count": null,
   "metadata": {},
   "outputs": [],
   "source": [
    "#Define função\n",
    "random_forest = RandomForestClassifier()\n",
    "\n",
    "#Define os possíveis parametros (testarei uma quantidade X de testes que combinam eles aleatóriamente, até encontrar a melhor combinação)\n",
    "parametros = {\n",
    "    'n_estimators': np.arange(100, 200, 10),\n",
    "    \"criterion\": ['entropy', 'gini'],\n",
    "    \"max_features\": ['sqrt', 'log2'],\n",
    "    \"bootstrap\": [False, True],\n",
    "    \"max_depth\": [10, 20, 50],\n",
    "    'min_samples_leaf': np.arange(1, 5),\n",
    "    'min_samples_split': np.arange(2, 11),\n",
    "}"
   ]
  },
  {
   "cell_type": "code",
   "execution_count": null,
   "metadata": {},
   "outputs": [],
   "source": [
    "#Realiza 20 combinações aleatórias entre os parametros\n",
    "#busca_aleatoria = RandomizedSearchCV(estimator=random_forest, param_distributions=parametros, n_iter=20, cv=5)\n",
    "#busca_aleatoria.fit(x_treinamento, y_treinamento)\n",
    "\n",
    "#Printa o melhor conjunto de parametros encontrados\n",
    "#print('Melhor modelo:' + busca_aleatoria.best_params_)"
   ]
  },
  {
   "cell_type": "code",
   "execution_count": null,
   "metadata": {},
   "outputs": [],
   "source": [
    "#Realiza o treinamento e teste com os melhores parametros encontrados\n",
    "random_forest = RandomForestClassifier(n_estimators= 100, min_samples_split= 3, min_samples_leaf= 2, max_features= 'sqrt', max_depth= 50, criterion= 'entropy', bootstrap= True)\n",
    "random_forest.fit(x_treinamento, y_treinamento)\n",
    "y_pred=random_forest.predict(x_teste)"
   ]
  },
  {
   "cell_type": "code",
   "execution_count": null,
   "metadata": {},
   "outputs": [],
   "source": [
    "#Realiza o teste de acurácia\n",
    "print(f'Acurácia: {accuracy_score(y_teste,y_pred):.2f}')\n",
    "print(classification_report(y_teste, y_pred))\n",
    "\n"
   ]
  },
  {
   "cell_type": "code",
   "execution_count": null,
   "metadata": {},
   "outputs": [],
   "source": [
    "#Verifica quantas quantidades de cada qualidade foi utilizada para o treinamento\n",
    "quantidade = {}\n",
    "for i in y_treinamento:\n",
    "    if i not in quantidade:\n",
    "        quantidade[i] = 1\n",
    "    else:\n",
    "        quantidade[i] +=1\n",
    "\n",
    "for i in sorted(quantidade, key = quantidade.get):\n",
    "    print(i, quantidade[i])"
   ]
  },
  {
   "cell_type": "code",
   "execution_count": null,
   "metadata": {},
   "outputs": [],
   "source": [
    "#Plota um gráfico que demonstre as features mais importantes da random forest\n",
    "nomes_features = winequality_dataset.iloc[:, 0:11].columns\n",
    "importancia = pd.Series(data=random_forest.feature_importances_, index=nomes_features)\n",
    "sns.barplot(x=importancia, y=importancia.index, orient='h').set_title('Importância de cada feature')"
   ]
  },
  {
   "cell_type": "markdown",
   "metadata": {},
   "source": [
    "Aplicando algoritmo de oversampling para tentar aumentar a quantidade de dados de algumas qualidades "
   ]
  },
  {
   "cell_type": "code",
   "execution_count": null,
   "metadata": {},
   "outputs": [],
   "source": [
    "from imblearn.over_sampling import SMOTE\n",
    "\n",
    "#Separa o dataset em treinamento e teste\n",
    "x = winequality_dataset.iloc[:, 0:11]\n",
    "y = winequality_dataset.iloc[:, 11]\n",
    "\n",
    "smote = SMOTE(k_neighbors = 4)\n",
    "x_resampleado, y_resampleado = smote.fit_resample(x, y)\n"
   ]
  },
  {
   "cell_type": "code",
   "execution_count": null,
   "metadata": {},
   "outputs": [],
   "source": [
    "x_treinamento, x_teste, y_treinamento, y_teste = train_test_split(x_resampleado, y_resampleado, random_state=0, test_size=0.2)"
   ]
  },
  {
   "cell_type": "code",
   "execution_count": null,
   "metadata": {},
   "outputs": [],
   "source": [
    "# Treinar o modelo Random Forest usando os dados resampleados\n",
    "random_forest = RandomForestClassifier(random_state=0, n_estimators= 100, min_samples_split= 3, min_samples_leaf= 2, max_features= 'sqrt', max_depth= 50, criterion= 'entropy', bootstrap= True)\n",
    "random_forest.fit(x_treinamento, y_treinamento)\n",
    "\n",
    "# Fazer previsões no conjunto de teste\n",
    "y_pred = random_forest.predict(x_teste)\n",
    "\n",
    "# Avaliar o desempenho do modelo\n",
    "print(\"Acurácia:\", accuracy_score(y_teste, y_pred))\n",
    "print(classification_report(y_teste, y_pred))"
   ]
  },
  {
   "cell_type": "code",
   "execution_count": null,
   "metadata": {},
   "outputs": [],
   "source": [
    "matriz = confusion_matrix(y_teste, y_pred)\n",
    "sns.heatmap(matriz, annot=True, fmt='d', cmap='viridis')"
   ]
  }
 ],
 "metadata": {
  "kernelspec": {
   "display_name": "base",
   "language": "python",
   "name": "python3"
  },
  "language_info": {
   "codemirror_mode": {
    "name": "ipython",
    "version": 3
   },
   "file_extension": ".py",
   "mimetype": "text/x-python",
   "name": "python",
   "nbconvert_exporter": "python",
   "pygments_lexer": "ipython3",
   "version": "3.10.9"
  },
  "orig_nbformat": 4
 },
 "nbformat": 4,
 "nbformat_minor": 2
}
